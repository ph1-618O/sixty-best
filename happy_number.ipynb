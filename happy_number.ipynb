{
 "cells": [
  {
   "cell_type": "markdown",
   "id": "aa76cd91",
   "metadata": {},
   "source": [
    "# Happy Number"
   ]
  },
  {
   "cell_type": "markdown",
   "id": "3b3f8a7a",
   "metadata": {},
   "source": [
    "# A happy number is a number defined by the following process:\n",
    "\n",
    "- Starting with any positive integer, replace the number by the sum of the squares of its digits.\n",
    "- Repeat the process until the number equals 1 (where it will stay), or it loops endlessly in a cycle which does not include 1.\n",
    "- Those numbers for which this process ends in 1 are happy.\n",
    "- Return true if n is a happy number, and false if not."
   ]
  },
  {
   "cell_type": "markdown",
   "id": "c53b9872",
   "metadata": {},
   "source": [
    "Input: n = 19\n",
    "Output: true\n",
    "Explanation:\n",
    "12 + 92 = 82\n",
    "82 + 22 = 68\n",
    "62 + 82 = 100\n",
    "12 + 02 + 02 = 1\n",
    "\n",
    "Input: n = 2\n",
    "Output: false\n",
    "\n",
    "Contraints:\n",
    "1 <= n <= 231 - 1\n"
   ]
  },
  {
   "cell_type": "code",
   "execution_count": null,
   "id": "1eb19d5d",
   "metadata": {},
   "outputs": [],
   "source": [
    "class Solution:\n",
    "    def isHappy(self, n: int) -> bool:\n",
    "        while n != 1:\n",
    "            if (len(str(n)) < 1):\n",
    "                return False\n",
    "            elif n >= 1 and len(str(n)) ==1:\n",
    "                a = n*2\n",
    "                if n % 2 == 0:\n",
    "                    return True\n",
    "                else:\n",
    "                    return False\n",
    "            else:\n",
    "                n = str(n)\n",
    "                a = int(n[0])\n",
    "                b = int(n[1])\n",
    "                num = a*2 + b*2\n",
    "                if num % 2 == 0:\n",
    "                    return True\n",
    "                else:\n",
    "                    return False"
   ]
  },
  {
   "cell_type": "code",
   "execution_count": 13,
   "id": "e5bc6913",
   "metadata": {},
   "outputs": [],
   "source": [
    "def loopHappy(num):\n",
    "    for i in range(len(num)):\n",
    "        if len(i) == 1:\n",
    "            \n",
    "        \n",
    "\n",
    "\n",
    "def isHappy(n):\n",
    "        while n != 1:\n",
    "            if (len(str(n)) < 1):\n",
    "                return False \n",
    "            elif n > 1 and len(str(n)) == 1:\n",
    "                n = n*2\n",
    "                if n%2 == 0:\n",
    "                    return True\n",
    "                else:\n",
    "                    return False       \n",
    "        return True"
   ]
  },
  {
   "cell_type": "code",
   "execution_count": 15,
   "id": "762af2df",
   "metadata": {},
   "outputs": [
    {
     "data": {
      "text/plain": [
       "True"
      ]
     },
     "execution_count": 15,
     "metadata": {},
     "output_type": "execute_result"
    }
   ],
   "source": [
    "isHappy(19)"
   ]
  },
  {
   "cell_type": "code",
   "execution_count": null,
   "id": "eab9e80a",
   "metadata": {},
   "outputs": [],
   "source": []
  }
 ],
 "metadata": {
  "kernelspec": {
   "display_name": "Python 3 (ipykernel)",
   "language": "python",
   "name": "python3"
  },
  "language_info": {
   "codemirror_mode": {
    "name": "ipython",
    "version": 3
   },
   "file_extension": ".py",
   "mimetype": "text/x-python",
   "name": "python",
   "nbconvert_exporter": "python",
   "pygments_lexer": "ipython3",
   "version": "3.7.7"
  }
 },
 "nbformat": 4,
 "nbformat_minor": 5
}
